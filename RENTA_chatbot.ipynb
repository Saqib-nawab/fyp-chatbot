{
  "nbformat": 4,
  "nbformat_minor": 0,
  "metadata": {
    "colab": {
      "provenance": [],
      "gpuType": "T4"
    },
    "kernelspec": {
      "name": "python3",
      "display_name": "Python 3"
    },
    "language_info": {
      "name": "python"
    },
    "accelerator": "GPU"
  },
  "cells": [
    {
      "cell_type": "markdown",
      "source": [
        "#DONE BY\n",
        "##Ateeb Ahmad\n",
        "##Saqib Nawab"
      ],
      "metadata": {
        "id": "HC8i628Nt0nJ"
      }
    },
    {
      "cell_type": "markdown",
      "source": [
        "#Importing Necessary Libraries\n",
        "\n"
      ],
      "metadata": {
        "id": "HKA-uubo-aGG"
      }
    },
    {
      "cell_type": "code",
      "source": [
        "import torch\n",
        "from transformers import GPT2Tokenizer, GPT2LMHeadModel\n",
        "from torch.utils.data import Dataset, DataLoader\n",
        "from tqdm import tqdm\n",
        "from sklearn.model_selection import train_test_split\n",
        "from sklearn.metrics import accuracy_score, precision_recall_fscore_support\n",
        "from transformers import BertTokenizer, BertForSequenceClassification\n",
        "from sklearn.metrics import confusion_matrix\n",
        "import seaborn as sns\n",
        "import matplotlib.pyplot as plt\n",
        "import math\n",
        "import json\n",
        "import random\n",
        "\n",
        "device = \"cuda\" if torch.cuda.is_available() else \"cpu\""
      ],
      "metadata": {
        "id": "2aIfT-Fw-Z26"
      },
      "execution_count": 173,
      "outputs": []
    },
    {
      "cell_type": "markdown",
      "source": [
        "#Importing Prompt Dataset"
      ],
      "metadata": {
        "id": "6LKLedqB-Spa"
      }
    },
    {
      "cell_type": "code",
      "execution_count": 174,
      "metadata": {
        "colab": {
          "base_uri": "https://localhost:8080/"
        },
        "id": "HzP0Y0M8Sj-5",
        "outputId": "4f9e0337-f333-42f8-b558-89c2537a88a8"
      },
      "outputs": [
        {
          "output_type": "stream",
          "name": "stdout",
          "text": [
            "Downloading...\n",
            "From: https://drive.google.com/uc?id=1nDPgXzAgu3iOR7i4yF49xlCMZ3irgkpu\n",
            "To: /content/prompts.json\n",
            "\r  0% 0.00/17.9k [00:00<?, ?B/s]\r100% 17.9k/17.9k [00:00<00:00, 51.4MB/s]\n"
          ]
        }
      ],
      "source": [
        "!gdown https://drive.google.com/file/d/1nDPgXzAgu3iOR7i4yF49xlCMZ3irgkpu/view?usp=sharing --fuzzy"
      ]
    },
    {
      "cell_type": "markdown",
      "source": [
        "#Preprocessing the Data"
      ],
      "metadata": {
        "id": "vN_eCGSQ-1km"
      }
    },
    {
      "cell_type": "markdown",
      "source": [
        "##Loading the JSON File"
      ],
      "metadata": {
        "id": "heGOxIW-Bn3n"
      }
    },
    {
      "cell_type": "code",
      "source": [
        "with open(\"/content/prompts.json\") as f:\n",
        "  data = json.load(f)"
      ],
      "metadata": {
        "id": "oGSwkEb_-5Ab"
      },
      "execution_count": 175,
      "outputs": []
    },
    {
      "cell_type": "markdown",
      "source": [
        "##Gettings Tags, Prompts, and Responses"
      ],
      "metadata": {
        "id": "JMr98TiLGjgC"
      }
    },
    {
      "cell_type": "code",
      "source": [
        "tags = []\n",
        "prompts = []\n",
        "responses = []\n",
        "\n",
        "for i in data['intents']:\n",
        "  tags.append(i['tag'])\n",
        "\n",
        "  for j in i['questions']:\n",
        "\n",
        "    # Making the prompts lowercased\n",
        "    prompt = j.lower()\n",
        "\n",
        "    # Removing punctuations like ? and .\n",
        "    prompt = prompt.strip(\"?.\")\n",
        "\n",
        "    prompts.append((prompt, i['tag']))"
      ],
      "metadata": {
        "id": "Un61LAnPCaMl"
      },
      "execution_count": 176,
      "outputs": []
    },
    {
      "cell_type": "code",
      "source": [
        "labelsToid = {label:id for id,label in enumerate(tags)}\n",
        "idTolabels = {id:label for id,label in enumerate(tags)}"
      ],
      "metadata": {
        "id": "qWmvCACeBLuu"
      },
      "execution_count": 178,
      "outputs": []
    },
    {
      "cell_type": "code",
      "source": [
        "idTolabels"
      ],
      "metadata": {
        "colab": {
          "base_uri": "https://localhost:8080/"
        },
        "id": "jwuqDMYJGWqm",
        "outputId": "65562461-5945-4521-b39e-113c2f9951a7"
      },
      "execution_count": 179,
      "outputs": [
        {
          "output_type": "execute_result",
          "data": {
            "text/plain": [
              "{0: 'greeting',\n",
              " 1: 'creator',\n",
              " 2: 'name',\n",
              " 3: 'general',\n",
              " 4: 'location_recommendation',\n",
              " 5: 'hotel_recommendation',\n",
              " 6: 'safety_and_amenities',\n",
              " 7: 'rent_pricing',\n",
              " 8: 'hotel_pricing',\n",
              " 9: 'property_inspection',\n",
              " 10: 'legal_documentation',\n",
              " 11: 'goodbye'}"
            ]
          },
          "metadata": {},
          "execution_count": 179
        }
      ]
    },
    {
      "cell_type": "code",
      "source": [
        "labelsToid"
      ],
      "metadata": {
        "colab": {
          "base_uri": "https://localhost:8080/"
        },
        "id": "bOzq9ZACC0KO",
        "outputId": "e3db9d04-3366-4d72-c602-0570371bbd98"
      },
      "execution_count": 180,
      "outputs": [
        {
          "output_type": "execute_result",
          "data": {
            "text/plain": [
              "{'greeting': 0,\n",
              " 'creator': 1,\n",
              " 'name': 2,\n",
              " 'general': 3,\n",
              " 'location_recommendation': 4,\n",
              " 'hotel_recommendation': 5,\n",
              " 'safety_and_amenities': 6,\n",
              " 'rent_pricing': 7,\n",
              " 'hotel_pricing': 8,\n",
              " 'property_inspection': 9,\n",
              " 'legal_documentation': 10,\n",
              " 'goodbye': 11}"
            ]
          },
          "metadata": {},
          "execution_count": 180
        }
      ]
    },
    {
      "cell_type": "markdown",
      "source": [
        "#Using PreTrained BERT Model & Tokenizer"
      ],
      "metadata": {
        "id": "RyPc1CejhLyP"
      }
    },
    {
      "cell_type": "code",
      "source": [
        "model_name = \"bert-base-uncased\"\n",
        "max_len = 256\n",
        "\n",
        "tokenizer = BertTokenizer.from_pretrained(model_name,\n",
        "                                          max_length=max_len)\n",
        "\n",
        "model = BertForSequenceClassification.from_pretrained(model_name,\n",
        "                                                      num_labels=len(tags)\n",
        "                                                      )"
      ],
      "metadata": {
        "id": "EoeOkj2qWB1o",
        "colab": {
          "base_uri": "https://localhost:8080/"
        },
        "outputId": "cd4de166-a5ba-4bdc-f3fd-63d074665631"
      },
      "execution_count": 181,
      "outputs": [
        {
          "output_type": "stream",
          "name": "stderr",
          "text": [
            "Some weights of BertForSequenceClassification were not initialized from the model checkpoint at bert-base-uncased and are newly initialized: ['classifier.weight', 'classifier.bias']\n",
            "You should probably TRAIN this model on a down-stream task to be able to use it for predictions and inference.\n"
          ]
        }
      ]
    },
    {
      "cell_type": "code",
      "source": [
        "model = model.to(device)\n",
        "model"
      ],
      "metadata": {
        "colab": {
          "base_uri": "https://localhost:8080/"
        },
        "id": "26B_RU57iB3a",
        "outputId": "fa03b99d-0f76-4a58-9408-707efc608d23"
      },
      "execution_count": 182,
      "outputs": [
        {
          "output_type": "execute_result",
          "data": {
            "text/plain": [
              "BertForSequenceClassification(\n",
              "  (bert): BertModel(\n",
              "    (embeddings): BertEmbeddings(\n",
              "      (word_embeddings): Embedding(30522, 768, padding_idx=0)\n",
              "      (position_embeddings): Embedding(512, 768)\n",
              "      (token_type_embeddings): Embedding(2, 768)\n",
              "      (LayerNorm): LayerNorm((768,), eps=1e-12, elementwise_affine=True)\n",
              "      (dropout): Dropout(p=0.1, inplace=False)\n",
              "    )\n",
              "    (encoder): BertEncoder(\n",
              "      (layer): ModuleList(\n",
              "        (0-11): 12 x BertLayer(\n",
              "          (attention): BertAttention(\n",
              "            (self): BertSelfAttention(\n",
              "              (query): Linear(in_features=768, out_features=768, bias=True)\n",
              "              (key): Linear(in_features=768, out_features=768, bias=True)\n",
              "              (value): Linear(in_features=768, out_features=768, bias=True)\n",
              "              (dropout): Dropout(p=0.1, inplace=False)\n",
              "            )\n",
              "            (output): BertSelfOutput(\n",
              "              (dense): Linear(in_features=768, out_features=768, bias=True)\n",
              "              (LayerNorm): LayerNorm((768,), eps=1e-12, elementwise_affine=True)\n",
              "              (dropout): Dropout(p=0.1, inplace=False)\n",
              "            )\n",
              "          )\n",
              "          (intermediate): BertIntermediate(\n",
              "            (dense): Linear(in_features=768, out_features=3072, bias=True)\n",
              "            (intermediate_act_fn): GELUActivation()\n",
              "          )\n",
              "          (output): BertOutput(\n",
              "            (dense): Linear(in_features=3072, out_features=768, bias=True)\n",
              "            (LayerNorm): LayerNorm((768,), eps=1e-12, elementwise_affine=True)\n",
              "            (dropout): Dropout(p=0.1, inplace=False)\n",
              "          )\n",
              "        )\n",
              "      )\n",
              "    )\n",
              "    (pooler): BertPooler(\n",
              "      (dense): Linear(in_features=768, out_features=768, bias=True)\n",
              "      (activation): Tanh()\n",
              "    )\n",
              "  )\n",
              "  (dropout): Dropout(p=0.1, inplace=False)\n",
              "  (classifier): Linear(in_features=768, out_features=12, bias=True)\n",
              ")"
            ]
          },
          "metadata": {},
          "execution_count": 182
        }
      ]
    },
    {
      "cell_type": "markdown",
      "source": [
        "#Creating Dataset"
      ],
      "metadata": {
        "id": "o-C8jRV5TDyK"
      }
    },
    {
      "cell_type": "code",
      "source": [
        "class Dataset(Dataset):\n",
        "  def __init__(self, prompts, labels):\n",
        "    self.prompt = prompts\n",
        "    self.label = labels\n",
        "\n",
        "  def __len__(self):\n",
        "    return len(self.prompt)\n",
        "\n",
        "  def __getitem__(self, index):\n",
        "\n",
        "    # Getting prompts\n",
        "    prompt = self.prompt[index]\n",
        "\n",
        "    # Extracting label id from prompt\n",
        "    label_id = self.label[prompt[1]]\n",
        "\n",
        "    # Converting to tensor\n",
        "    label_id = torch.tensor(label_id)\n",
        "\n",
        "    # Returning the prompt and it's respective label id\n",
        "    return prompt[0], label_id"
      ],
      "metadata": {
        "id": "WkbtMZ_UTly1"
      },
      "execution_count": 183,
      "outputs": []
    },
    {
      "cell_type": "code",
      "source": [
        "dataset = Dataset(prompts, labelsToid)"
      ],
      "metadata": {
        "id": "kbj8rkguVnrC"
      },
      "execution_count": 184,
      "outputs": []
    },
    {
      "cell_type": "markdown",
      "source": [
        "#Splitting the Dataset into Train & Test"
      ],
      "metadata": {
        "id": "lP0KdLgqb8MY"
      }
    },
    {
      "cell_type": "code",
      "source": [
        "trainset, testset = train_test_split(dataset, test_size=0.25, random_state=40)"
      ],
      "metadata": {
        "id": "Jx2hSTWvcAPH"
      },
      "execution_count": 185,
      "outputs": []
    },
    {
      "cell_type": "markdown",
      "source": [
        "##Creating DataLoaders"
      ],
      "metadata": {
        "id": "eGcEmlQEhHCa"
      }
    },
    {
      "cell_type": "code",
      "source": [
        "batchSize = 32\n",
        "\n",
        "trainLoader = DataLoader(\n",
        "    trainset,\n",
        "    batch_size = batchSize,\n",
        "    shuffle = True,\n",
        ")\n",
        "\n",
        "valLoader = DataLoader(\n",
        "    testset,\n",
        "    batch_size = batchSize,\n",
        "    shuffle = False\n",
        ")"
      ],
      "metadata": {
        "id": "1QwBT-j-CsYx"
      },
      "execution_count": 186,
      "outputs": []
    },
    {
      "cell_type": "markdown",
      "source": [
        "##Defining Optimizer"
      ],
      "metadata": {
        "id": "lTg2L1S4mE7k"
      }
    },
    {
      "cell_type": "code",
      "source": [
        "# Optimizer\n",
        "optimizer = torch.optim.AdamW(model.parameters(), lr=2e-5)"
      ],
      "metadata": {
        "id": "fVCg1nDumIq-"
      },
      "execution_count": 187,
      "outputs": []
    },
    {
      "cell_type": "markdown",
      "source": [
        "##Defining Training & Testing Function"
      ],
      "metadata": {
        "id": "0-IT96Q_hron"
      }
    },
    {
      "cell_type": "code",
      "execution_count": 188,
      "metadata": {
        "id": "IYkNVtic-hrZ"
      },
      "outputs": [],
      "source": [
        "def train_or_val(model, optimizer, dataloader, train):\n",
        "\n",
        "  if train:\n",
        "    model.train()\n",
        "  else:\n",
        "    model.eval()\n",
        "\n",
        "  running_loss = 0\n",
        "  correct = 0\n",
        "  pre, rec, f1 = 0,0,0\n",
        "  all_labels = []\n",
        "  all_preds = []\n",
        "\n",
        "  for prompt, labels in dataloader:\n",
        "\n",
        "    # Passing Inputs to Tokenizer\n",
        "    input = tokenizer(prompt, return_tensors='pt', truncation=True, padding=True)\n",
        "\n",
        "    # Passing them on CUDA or CPU depending on the availability\n",
        "    input = input.to(device)\n",
        "    labels = labels.to(device)\n",
        "\n",
        "    # Forward Pass\n",
        "    yhat = model(**input, labels = labels)\n",
        "\n",
        "    # Getting Predictions\n",
        "    pred = yhat['logits'].argmax(1)\n",
        "\n",
        "    # Computing loss\n",
        "    loss = yhat.loss\n",
        "    running_loss += loss.item()\n",
        "\n",
        "    # Backpropogation\n",
        "    if train:\n",
        "      optimizer.zero_grad() # Making gradient equal to zero to avoid accumulation\n",
        "      loss.backward() # Calculating Gradients\n",
        "      optimizer.step() # Updating weights and biases\n",
        "\n",
        "    else:\n",
        "      # Computing Accuracy\n",
        "      correct += (pred == labels).sum()\n",
        "\n",
        "      # Computing Precision, Recall, and F1 score\n",
        "      p, r, f, _ = precision_recall_fscore_support(labels.cpu().numpy(), pred.cpu().numpy(), average='macro', zero_division=1)\n",
        "      pre += p\n",
        "      rec += r\n",
        "      f1 += f\n",
        "\n",
        "      # Append true labels and predictions\n",
        "      all_labels.extend(labels.cpu().numpy())\n",
        "      all_preds.extend(pred.cpu().numpy())\n",
        "\n",
        "  # Calculating Loss\n",
        "  loss = running_loss/len(dataloader)\n",
        "\n",
        "  if train:\n",
        "    return loss\n",
        "\n",
        "  else:\n",
        "    # Calculating Accuracy\n",
        "    accuracy = correct/len(dataloader.dataset) * 100\n",
        "\n",
        "    # Calculating Precision, Recall, F1 Score\n",
        "    precision = pre/len(dataloader) * 100\n",
        "    recall = rec/len(dataloader) * 100\n",
        "    f1 = f1/len(dataloader) * 100\n",
        "\n",
        "    return loss, accuracy, precision, recall, f1, all_labels, all_preds"
      ]
    },
    {
      "cell_type": "markdown",
      "metadata": {
        "id": "7eBGA3hLKwWQ"
      },
      "source": [
        "##Mounting Google Drive for Saving and Loading Model"
      ]
    },
    {
      "cell_type": "code",
      "execution_count": 189,
      "metadata": {
        "id": "yDKrngz4K0ep",
        "colab": {
          "base_uri": "https://localhost:8080/"
        },
        "outputId": "b45bf3ad-730b-445d-d80e-9c0a5a8932ee"
      },
      "outputs": [
        {
          "output_type": "stream",
          "name": "stdout",
          "text": [
            "Drive already mounted at /content/drive; to attempt to forcibly remount, call drive.mount(\"/content/drive\", force_remount=True).\n"
          ]
        }
      ],
      "source": [
        "from google.colab import drive\n",
        "drive.mount('/content/drive')"
      ]
    },
    {
      "cell_type": "markdown",
      "source": [
        "##Starting Training"
      ],
      "metadata": {
        "id": "EXHyVjZXhxvX"
      }
    },
    {
      "cell_type": "code",
      "execution_count": 190,
      "metadata": {
        "id": "STP_GQeyZwkZ",
        "colab": {
          "base_uri": "https://localhost:8080/"
        },
        "outputId": "15a9d9bc-5366-499e-81dd-3d27fe3ed3c7"
      },
      "outputs": [
        {
          "output_type": "stream",
          "name": "stdout",
          "text": [
            "Epoch 1: Train: Train Loss: 2.511\n",
            "\t Val: Val Loss: 2.509 Val Accuracy: 6.1% Precision: 54.8% Recall: 31.8% F1 Score: 2.7%\n",
            "Epoch 2: Train: Train Loss: 2.448\n",
            "\t Val: Val Loss: 2.383 Val Accuracy: 9.1% Precision: 57.3% Recall: 30.3% F1 Score: 2.2%\n",
            "Epoch 3: Train: Train Loss: 2.386\n",
            "\t Val: Val Loss: 2.345 Val Accuracy: 21.2% Precision: 83.8% Recall: 61.1% F1 Score: 54.2%\n",
            "Epoch 4: Train: Train Loss: 2.294\n",
            "\t Val: Val Loss: 2.309 Val Accuracy: 21.2% Precision: 59.4% Recall: 42.4% F1 Score: 11.0%\n",
            "Epoch 5: Train: Train Loss: 2.154\n",
            "\t Val: Val Loss: 2.312 Val Accuracy: 27.3% Precision: 59.9% Recall: 42.4% F1 Score: 10.4%\n",
            "Epoch 6: Train: Train Loss: 2.039\n",
            "\t Val: Val Loss: 2.255 Val Accuracy: 33.3% Precision: 60.2% Recall: 43.8% F1 Score: 11.3%\n",
            "Epoch 7: Train: Train Loss: 2.028\n",
            "\t Val: Val Loss: 2.180 Val Accuracy: 42.4% Precision: 62.4% Recall: 50.0% F1 Score: 14.2%\n",
            "Epoch 8: Train: Train Loss: 1.833\n",
            "\t Val: Val Loss: 2.089 Val Accuracy: 45.5% Precision: 61.1% Recall: 50.8% F1 Score: 16.1%\n",
            "Epoch 9: Train: Train Loss: 1.866\n",
            "\t Val: Val Loss: 2.087 Val Accuracy: 54.5% Precision: 62.6% Recall: 50.2% F1 Score: 19.0%\n",
            "Epoch 10: Train: Train Loss: 1.728\n",
            "\t Val: Val Loss: 2.036 Val Accuracy: 54.5% Precision: 62.6% Recall: 50.2% F1 Score: 19.0%\n",
            "Epoch 11: Train: Train Loss: 1.725\n",
            "\t Val: Val Loss: 1.914 Val Accuracy: 54.5% Precision: 86.1% Recall: 77.5% F1 Score: 68.3%\n",
            "Epoch 12: Train: Train Loss: 1.654\n",
            "\t Val: Val Loss: 1.904 Val Accuracy: 54.5% Precision: 85.7% Recall: 78.8% F1 Score: 69.3%\n",
            "Epoch 13: Train: Train Loss: 1.592\n",
            "\t Val: Val Loss: 1.877 Val Accuracy: 57.6% Precision: 86.4% Recall: 79.8% F1 Score: 71.2%\n",
            "Epoch 14: Train: Train Loss: 1.481\n",
            "\t Val: Val Loss: 1.989 Val Accuracy: 51.5% Precision: 61.7% Recall: 54.1% F1 Score: 23.5%\n",
            "Epoch 15: Train: Train Loss: 1.547\n",
            "\t Val: Val Loss: 1.833 Val Accuracy: 66.7% Precision: 62.2% Recall: 54.9% F1 Score: 25.6%\n",
            "Epoch 16: Train: Train Loss: 1.567\n",
            "\t Val: Val Loss: 1.740 Val Accuracy: 54.5% Precision: 62.7% Recall: 53.5% F1 Score: 22.2%\n",
            "Epoch 17: Train: Train Loss: 1.350\n",
            "\t Val: Val Loss: 1.577 Val Accuracy: 63.6% Precision: 88.2% Recall: 81.5% F1 Score: 74.4%\n",
            "Epoch 18: Train: Train Loss: 1.331\n",
            "\t Val: Val Loss: 1.511 Val Accuracy: 75.8% Precision: 91.0% Recall: 91.9% F1 Score: 86.8%\n",
            "Epoch 19: Train: Train Loss: 1.246\n",
            "\t Val: Val Loss: 1.442 Val Accuracy: 81.8% Precision: 92.3% Recall: 90.2% F1 Score: 85.8%\n",
            "Epoch 20: Train: Train Loss: 1.199\n",
            "\t Val: Val Loss: 1.353 Val Accuracy: 90.9% Precision: 94.4% Recall: 92.7% F1 Score: 88.8%\n",
            "Epoch 21: Train: Train Loss: 1.135\n",
            "\t Val: Val Loss: 1.311 Val Accuracy: 66.7% Precision: 90.5% Recall: 85.6% F1 Score: 79.7%\n",
            "Epoch 22: Train: Train Loss: 1.050\n",
            "\t Val: Val Loss: 1.359 Val Accuracy: 63.6% Precision: 90.5% Recall: 84.8% F1 Score: 78.8%\n",
            "Epoch 23: Train: Train Loss: 0.869\n",
            "\t Val: Val Loss: 1.265 Val Accuracy: 69.7% Precision: 90.3% Recall: 86.5% F1 Score: 80.6%\n",
            "Epoch 24: Train: Train Loss: 0.875\n",
            "\t Val: Val Loss: 1.210 Val Accuracy: 90.9% Precision: 94.4% Recall: 92.7% F1 Score: 88.8%\n",
            "Epoch 25: Train: Train Loss: 0.804\n",
            "\t Val: Val Loss: 1.190 Val Accuracy: 90.9% Precision: 94.4% Recall: 92.7% F1 Score: 88.8%\n",
            "Epoch 26: Train: Train Loss: 0.892\n",
            "\t Val: Val Loss: 1.119 Val Accuracy: 90.9% Precision: 94.4% Recall: 92.7% F1 Score: 88.8%\n",
            "Epoch 27: Train: Train Loss: 0.746\n",
            "\t Val: Val Loss: 1.048 Val Accuracy: 78.8% Precision: 90.0% Recall: 89.4% F1 Score: 83.6%\n",
            "Epoch 28: Train: Train Loss: 0.746\n",
            "\t Val: Val Loss: 0.992 Val Accuracy: 84.8% Precision: 91.3% Recall: 91.0% F1 Score: 85.9%\n",
            "Epoch 29: Train: Train Loss: 0.703\n",
            "\t Val: Val Loss: 0.962 Val Accuracy: 90.9% Precision: 94.4% Recall: 92.7% F1 Score: 88.8%\n",
            "Epoch 30: Train: Train Loss: 0.680\n",
            "\t Val: Val Loss: 0.890 Val Accuracy: 93.9% Precision: 95.8% Recall: 93.8% F1 Score: 90.3%\n",
            "Epoch 31: Train: Train Loss: 0.590\n",
            "\t Val: Val Loss: 0.825 Val Accuracy: 90.9% Precision: 93.8% Recall: 92.9% F1 Score: 88.4%\n",
            "Epoch 32: Train: Train Loss: 0.544\n",
            "\t Val: Val Loss: 0.785 Val Accuracy: 87.9% Precision: 92.7% Recall: 92.1% F1 Score: 87.4%\n",
            "Epoch 33: Train: Train Loss: 0.616\n",
            "\t Val: Val Loss: 0.734 Val Accuracy: 87.9% Precision: 92.7% Recall: 92.1% F1 Score: 87.4%\n",
            "Epoch 34: Train: Train Loss: 0.525\n",
            "\t Val: Val Loss: 0.678 Val Accuracy: 93.9% Precision: 95.8% Recall: 93.8% F1 Score: 90.3%\n",
            "Epoch 35: Train: Train Loss: 0.494\n",
            "\t Val: Val Loss: 0.655 Val Accuracy: 93.9% Precision: 95.8% Recall: 93.8% F1 Score: 90.3%\n",
            "Epoch 36: Train: Train Loss: 0.484\n",
            "\t Val: Val Loss: 0.662 Val Accuracy: 81.8% Precision: 90.6% Recall: 90.4% F1 Score: 84.5%\n",
            "Epoch 37: Train: Train Loss: 0.368\n",
            "\t Val: Val Loss: 0.699 Val Accuracy: 75.8% Precision: 90.1% Recall: 88.8% F1 Score: 81.4%\n",
            "Epoch 38: Train: Train Loss: 0.392\n",
            "\t Val: Val Loss: 0.677 Val Accuracy: 75.8% Precision: 90.8% Recall: 88.8% F1 Score: 82.6%\n",
            "Epoch 39: Train: Train Loss: 0.401\n",
            "\t Val: Val Loss: 0.616 Val Accuracy: 90.9% Precision: 94.8% Recall: 92.9% F1 Score: 89.2%\n",
            "Epoch 40: Train: Train Loss: 0.358\n",
            "\t Val: Val Loss: 0.556 Val Accuracy: 93.9% Precision: 94.8% Recall: 97.1% F1 Score: 93.4%\n",
            "Epoch 41: Train: Train Loss: 0.339\n",
            "\t Val: Val Loss: 0.514 Val Accuracy: 93.9% Precision: 94.8% Recall: 97.1% F1 Score: 93.4%\n",
            "Epoch 42: Train: Train Loss: 0.341\n",
            "\t Val: Val Loss: 0.488 Val Accuracy: 93.9% Precision: 94.8% Recall: 97.1% F1 Score: 93.4%\n",
            "Epoch 43: Train: Train Loss: 0.342\n",
            "\t Val: Val Loss: 0.506 Val Accuracy: 81.8% Precision: 91.5% Recall: 93.8% F1 Score: 87.8%\n",
            "Epoch 44: Train: Train Loss: 0.338\n",
            "\t Val: Val Loss: 0.497 Val Accuracy: 81.8% Precision: 91.5% Recall: 93.8% F1 Score: 87.8%\n",
            "Epoch 45: Train: Train Loss: 0.304\n",
            "\t Val: Val Loss: 0.447 Val Accuracy: 93.9% Precision: 93.8% Recall: 97.1% F1 Score: 92.6%\n",
            "Epoch 46: Train: Train Loss: 0.305\n",
            "\t Val: Val Loss: 0.408 Val Accuracy: 93.9% Precision: 95.8% Recall: 93.8% F1 Score: 90.3%\n",
            "Epoch 47: Train: Train Loss: 0.251\n",
            "\t Val: Val Loss: 0.387 Val Accuracy: 90.9% Precision: 94.8% Recall: 92.9% F1 Score: 89.2%\n",
            "Epoch 48: Train: Train Loss: 0.263\n",
            "\t Val: Val Loss: 0.376 Val Accuracy: 90.9% Precision: 94.8% Recall: 92.9% F1 Score: 89.2%\n",
            "Epoch 49: Train: Train Loss: 0.241\n",
            "\t Val: Val Loss: 0.353 Val Accuracy: 93.9% Precision: 94.8% Recall: 97.1% F1 Score: 93.4%\n",
            "Epoch 50: Train: Train Loss: 0.254\n",
            "\t Val: Val Loss: 0.331 Val Accuracy: 93.9% Precision: 94.8% Recall: 97.1% F1 Score: 93.4%\n"
          ]
        }
      ],
      "source": [
        "Epochs = 50\n",
        "train_losses, val_losses = [], []\n",
        "\n",
        "for i in range(0, Epochs):\n",
        "\n",
        "  t_loss = train_or_val(model, optimizer, trainLoader, True)\n",
        "  train_losses.append(t_loss)\n",
        "\n",
        "  v_loss, v_acc, p, r, f, all_labels, all_preds = train_or_val(model, optimizer, valLoader, False)\n",
        "\n",
        "  print(f\"Epoch {i + 1}: Train: Train Loss: {t_loss:>0.3f}\")\n",
        "  print(f\"\\t Val: Val Loss: {v_loss:>0.3f} Val Accuracy: {v_acc:>0.1f}% Precision: {p:>0.1f}% Recall: {r:>0.1f}% F1 Score: {f:>0.1f}%\")\n",
        "\n",
        "  val_losses.append(v_loss)"
      ]
    },
    {
      "cell_type": "markdown",
      "source": [
        "#Visualizing Graphs"
      ],
      "metadata": {
        "id": "E-_vyLqOeuOu"
      }
    },
    {
      "cell_type": "code",
      "source": [
        "# Training Loss Vs Validaiton Loss\n",
        "plt.figure(figsize=(10,5))\n",
        "plt.title(\"Training and Validation Loss\")\n",
        "plt.plot(train_losses, label=\"Training Loss\")\n",
        "plt.plot(val_losses, label=\"Validation Loss\")\n",
        "plt.xlabel(\"Epochs\")\n",
        "plt.ylabel(\"Loss\")\n",
        "plt.legend()\n",
        "plt.show()"
      ],
      "metadata": {
        "colab": {
          "base_uri": "https://localhost:8080/",
          "height": 487
        },
        "id": "6b_7VZqPewjW",
        "outputId": "c4abdc74-4ebc-4ec7-e245-c1efb0a87e02"
      },
      "execution_count": 196,
      "outputs": [
        {
          "output_type": "display_data",
          "data": {
            "text/plain": [
              "<Figure size 1000x500 with 1 Axes>"
            ],
            "image/png": "[encoded data removed]"
          },
          "metadata": {}
        }
      ]
    },
    {
      "cell_type": "markdown",
      "source": [
        "#Visualizing Confusion Matrix"
      ],
      "metadata": {
        "id": "p8YBzqkqemhq"
      }
    },
    {
      "cell_type": "code",
      "source": [
        "# Create Confusion Matrix\n",
        "cm = confusion_matrix(all_preds, all_labels)\n",
        "\n",
        "# Plot Confusion Matrix\n",
        "plt.figure(figsize=(10, 8))\n",
        "sns.heatmap(cm, annot=True, fmt=\"d\", cmap=\"Blues\", xticklabels=range(len(cm)), yticklabels=range(len(cm)))\n",
        "plt.xlabel(\"True\")\n",
        "plt.ylabel(\"Predicted\")\n",
        "plt.title(\"Confusion Matrix\")\n",
        "plt.show()"
      ],
      "metadata": {
        "colab": {
          "base_uri": "https://localhost:8080/",
          "height": 718
        },
        "id": "yUKDnBf9XXi8",
        "outputId": "34c6815b-b99d-48c5-e980-b03775a5c234"
      },
      "execution_count": 191,
      "outputs": [
        {
          "output_type": "display_data",
          "data": {
            "text/plain": [
              "<Figure size 1000x800 with 2 Axes>"
            ],
            "image/png": "[encoded data removed]"
          },
          "metadata": {}
        }
      ]
    },
    {
      "cell_type": "markdown",
      "source": [
        "#Saving the Model"
      ],
      "metadata": {
        "id": "rAve04R-8mzc"
      }
    },
    {
      "cell_type": "code",
      "source": [
        "save_path = '/content/drive/MyDrive/FYP/chatbot.pth'\n",
        "\n",
        "torch.save(model.state_dict(), save_path)"
      ],
      "metadata": {
        "id": "UAdL3QRX8o68"
      },
      "execution_count": 192,
      "outputs": []
    },
    {
      "cell_type": "markdown",
      "source": [
        "#Chatting with the Model"
      ],
      "metadata": {
        "id": "CE7H1lx3DgJF"
      }
    },
    {
      "cell_type": "code",
      "source": [
        "def chatbot(prompt):\n",
        "\n",
        "  # Passing Inputs to Tokenizer\n",
        "  input = tokenizer(prompt, return_tensors='pt', truncation=True, padding=True)\n",
        "\n",
        "  # Passing them on CUDA or CPU depending on the availability\n",
        "  input = input.to(device)\n",
        "\n",
        "  # Forward Pass\n",
        "  yhat = model(**input)\n",
        "\n",
        "  # Getting label id\n",
        "  pred = yhat['logits'].argmax(1)\n",
        "\n",
        "  # Getting label\n",
        "  label = idTolabels[pred.item()]\n",
        "\n",
        "  # Getting responses\n",
        "  response = random.choice(data['intents'][pred.item()]['responses'])\n",
        "\n",
        "  return label, response"
      ],
      "metadata": {
        "id": "8m6m9afWDfzs"
      },
      "execution_count": 193,
      "outputs": []
    },
    {
      "cell_type": "code",
      "source": [
        "print(\"Chatbot: Hi! I am your virtual assistance,Feel free to ask, and I'll do my best to provide you with answers and assistance..\\n\")\n",
        "\n",
        "while(1):\n",
        "\n",
        "  text = input(\"User: \").strip(\"?.\").lower()\n",
        "  label, response = chatbot(text)\n",
        "  print(\"Chatbot:\", response,\"\\n\")\n",
        "\n",
        "  # If intent of the user is detected to be leaving than end the chat\n",
        "  if label == \"goodbye\":\n",
        "    break"
      ],
      "metadata": {
        "colab": {
          "base_uri": "https://localhost:8080/"
        },
        "id": "pAjd-bNMFlw4",
        "outputId": "b47024b8-1cd1-47f9-84b2-ee2058992f96"
      },
      "execution_count": 194,
      "outputs": [
        {
          "output_type": "stream",
          "name": "stdout",
          "text": [
            "Chatbot: Hi! I am your virtual assistance,Feel free to ask, and I'll do my best to provide you with answers and assistance..\n",
            "\n",
            "User: Hey\n",
            "Chatbot: Good to see you again! \n",
            "\n",
            "User: Who are you?\n",
            "Chatbot: I am your Property Agent \n",
            "\n",
            "User: You were created by whom?\n",
            "Chatbot: Made By: Team RENTA \n",
            "\n",
            "User: I am looking for rental houses in Islamabad?\n",
            "Chatbot: Common rental properties in Islamabad include apartments, houses, and commercial spaces. Apartments range from one to three bedrooms, while houses can vary in size and features. Commercial spaces are available in business districts. \n",
            "\n",
            "User: Which sectors are good for rental?\n",
            "Chatbot: Commonly preferred sectors for renting properties in Islamabad are F-6, F-7, G-10, and G-11. These areas offer a mix of amenities and a comfortable living environment. \n",
            "\n",
            "User: tell me about rent prices in islamabad?\n",
            "Chatbot: Insights into the rental rates for houses in Islamabad show a range of PKR 40,000 to PKR 100,000 or more per month, with variations across sectors. \n",
            "\n",
            "User: If i am going for rental inspection what should I know about?\n",
            "Chatbot: During a property visit, focus on checking for any damages, the condition of appliances, and the overall maintenance of the property. \n",
            "\n",
            "User: what documents are required for renting a property in islamabad?\n",
            "Chatbot: The lease registration process involves submitting the lease agreement to the relevant authorities. It helps formalize the rental arrangement. \n",
            "\n",
            "User: ok. Thanyou. Goodbye\n",
            "Chatbot: Come back soon \n",
            "\n"
          ]
        }
      ]
    }
  ]
}